{
 "cells": [
  {
   "cell_type": "code",
   "execution_count": 9,
   "metadata": {},
   "outputs": [],
   "source": [
    "import pandas as pd\n",
    "import numpy as np\n",
    "import warnings\n",
    "warnings.simplefilter(\"ignore\")"
   ]
  },
  {
   "cell_type": "markdown",
   "metadata": {},
   "source": [
    "### First instruction: \n",
    "Read in bank_marketing.csv as a pandas DataFrame."
   ]
  },
  {
   "cell_type": "code",
   "execution_count": 10,
   "metadata": {},
   "outputs": [
    {
     "data": {
      "text/html": [
       "<div>\n",
       "<style scoped>\n",
       "    .dataframe tbody tr th:only-of-type {\n",
       "        vertical-align: middle;\n",
       "    }\n",
       "\n",
       "    .dataframe tbody tr th {\n",
       "        vertical-align: top;\n",
       "    }\n",
       "\n",
       "    .dataframe thead th {\n",
       "        text-align: right;\n",
       "    }\n",
       "</style>\n",
       "<table border=\"1\" class=\"dataframe\">\n",
       "  <thead>\n",
       "    <tr style=\"text-align: right;\">\n",
       "      <th></th>\n",
       "      <th>client_id</th>\n",
       "      <th>age</th>\n",
       "      <th>job</th>\n",
       "      <th>marital</th>\n",
       "      <th>education</th>\n",
       "      <th>credit_default</th>\n",
       "      <th>housing</th>\n",
       "      <th>loan</th>\n",
       "      <th>contact</th>\n",
       "      <th>month</th>\n",
       "      <th>...</th>\n",
       "      <th>campaign</th>\n",
       "      <th>pdays</th>\n",
       "      <th>previous</th>\n",
       "      <th>poutcome</th>\n",
       "      <th>emp_var_rate</th>\n",
       "      <th>cons_price_idx</th>\n",
       "      <th>cons_conf_idx</th>\n",
       "      <th>euribor3m</th>\n",
       "      <th>nr_employed</th>\n",
       "      <th>y</th>\n",
       "    </tr>\n",
       "  </thead>\n",
       "  <tbody>\n",
       "    <tr>\n",
       "      <th>0</th>\n",
       "      <td>0</td>\n",
       "      <td>56</td>\n",
       "      <td>housemaid</td>\n",
       "      <td>married</td>\n",
       "      <td>basic.4y</td>\n",
       "      <td>no</td>\n",
       "      <td>no</td>\n",
       "      <td>no</td>\n",
       "      <td>telephone</td>\n",
       "      <td>may</td>\n",
       "      <td>...</td>\n",
       "      <td>1</td>\n",
       "      <td>999</td>\n",
       "      <td>0</td>\n",
       "      <td>nonexistent</td>\n",
       "      <td>1.1</td>\n",
       "      <td>93.994</td>\n",
       "      <td>-36.4</td>\n",
       "      <td>4.857</td>\n",
       "      <td>5191.0</td>\n",
       "      <td>no</td>\n",
       "    </tr>\n",
       "    <tr>\n",
       "      <th>1</th>\n",
       "      <td>1</td>\n",
       "      <td>57</td>\n",
       "      <td>services</td>\n",
       "      <td>married</td>\n",
       "      <td>high.school</td>\n",
       "      <td>unknown</td>\n",
       "      <td>no</td>\n",
       "      <td>no</td>\n",
       "      <td>telephone</td>\n",
       "      <td>may</td>\n",
       "      <td>...</td>\n",
       "      <td>1</td>\n",
       "      <td>999</td>\n",
       "      <td>0</td>\n",
       "      <td>nonexistent</td>\n",
       "      <td>1.1</td>\n",
       "      <td>93.994</td>\n",
       "      <td>-36.4</td>\n",
       "      <td>4.857</td>\n",
       "      <td>5191.0</td>\n",
       "      <td>no</td>\n",
       "    </tr>\n",
       "    <tr>\n",
       "      <th>2</th>\n",
       "      <td>2</td>\n",
       "      <td>37</td>\n",
       "      <td>services</td>\n",
       "      <td>married</td>\n",
       "      <td>high.school</td>\n",
       "      <td>no</td>\n",
       "      <td>yes</td>\n",
       "      <td>no</td>\n",
       "      <td>telephone</td>\n",
       "      <td>may</td>\n",
       "      <td>...</td>\n",
       "      <td>1</td>\n",
       "      <td>999</td>\n",
       "      <td>0</td>\n",
       "      <td>nonexistent</td>\n",
       "      <td>1.1</td>\n",
       "      <td>93.994</td>\n",
       "      <td>-36.4</td>\n",
       "      <td>4.857</td>\n",
       "      <td>5191.0</td>\n",
       "      <td>no</td>\n",
       "    </tr>\n",
       "    <tr>\n",
       "      <th>3</th>\n",
       "      <td>3</td>\n",
       "      <td>40</td>\n",
       "      <td>admin.</td>\n",
       "      <td>married</td>\n",
       "      <td>basic.6y</td>\n",
       "      <td>no</td>\n",
       "      <td>no</td>\n",
       "      <td>no</td>\n",
       "      <td>telephone</td>\n",
       "      <td>may</td>\n",
       "      <td>...</td>\n",
       "      <td>1</td>\n",
       "      <td>999</td>\n",
       "      <td>0</td>\n",
       "      <td>nonexistent</td>\n",
       "      <td>1.1</td>\n",
       "      <td>93.994</td>\n",
       "      <td>-36.4</td>\n",
       "      <td>4.857</td>\n",
       "      <td>5191.0</td>\n",
       "      <td>no</td>\n",
       "    </tr>\n",
       "    <tr>\n",
       "      <th>4</th>\n",
       "      <td>4</td>\n",
       "      <td>56</td>\n",
       "      <td>services</td>\n",
       "      <td>married</td>\n",
       "      <td>high.school</td>\n",
       "      <td>no</td>\n",
       "      <td>no</td>\n",
       "      <td>yes</td>\n",
       "      <td>telephone</td>\n",
       "      <td>may</td>\n",
       "      <td>...</td>\n",
       "      <td>1</td>\n",
       "      <td>999</td>\n",
       "      <td>0</td>\n",
       "      <td>nonexistent</td>\n",
       "      <td>1.1</td>\n",
       "      <td>93.994</td>\n",
       "      <td>-36.4</td>\n",
       "      <td>4.857</td>\n",
       "      <td>5191.0</td>\n",
       "      <td>no</td>\n",
       "    </tr>\n",
       "  </tbody>\n",
       "</table>\n",
       "<p>5 rows × 22 columns</p>\n",
       "</div>"
      ],
      "text/plain": [
       "   client_id  age        job  marital    education credit_default housing  \\\n",
       "0          0   56  housemaid  married     basic.4y             no      no   \n",
       "1          1   57   services  married  high.school        unknown      no   \n",
       "2          2   37   services  married  high.school             no     yes   \n",
       "3          3   40     admin.  married     basic.6y             no      no   \n",
       "4          4   56   services  married  high.school             no      no   \n",
       "\n",
       "  loan    contact month  ...  campaign  pdays  previous     poutcome  \\\n",
       "0   no  telephone   may  ...         1    999         0  nonexistent   \n",
       "1   no  telephone   may  ...         1    999         0  nonexistent   \n",
       "2   no  telephone   may  ...         1    999         0  nonexistent   \n",
       "3   no  telephone   may  ...         1    999         0  nonexistent   \n",
       "4  yes  telephone   may  ...         1    999         0  nonexistent   \n",
       "\n",
       "   emp_var_rate cons_price_idx  cons_conf_idx  euribor3m  nr_employed   y  \n",
       "0           1.1         93.994          -36.4      4.857       5191.0  no  \n",
       "1           1.1         93.994          -36.4      4.857       5191.0  no  \n",
       "2           1.1         93.994          -36.4      4.857       5191.0  no  \n",
       "3           1.1         93.994          -36.4      4.857       5191.0  no  \n",
       "4           1.1         93.994          -36.4      4.857       5191.0  no  \n",
       "\n",
       "[5 rows x 22 columns]"
      ]
     },
     "execution_count": 10,
     "metadata": {},
     "output_type": "execute_result"
    }
   ],
   "source": [
    "bank_marketing = pd.read_csv('bank_marketing.csv')\n",
    "bank_marketing.head()"
   ]
  },
  {
   "cell_type": "code",
   "execution_count": 11,
   "metadata": {},
   "outputs": [
    {
     "data": {
      "text/plain": [
       "client_id           int64\n",
       "age                 int64\n",
       "job                object\n",
       "marital            object\n",
       "education          object\n",
       "credit_default     object\n",
       "housing            object\n",
       "loan               object\n",
       "contact            object\n",
       "month              object\n",
       "day                 int64\n",
       "duration            int64\n",
       "campaign            int64\n",
       "pdays               int64\n",
       "previous            int64\n",
       "poutcome           object\n",
       "emp_var_rate      float64\n",
       "cons_price_idx    float64\n",
       "cons_conf_idx     float64\n",
       "euribor3m         float64\n",
       "nr_employed       float64\n",
       "y                  object\n",
       "dtype: object"
      ]
     },
     "execution_count": 11,
     "metadata": {},
     "output_type": "execute_result"
    }
   ],
   "source": [
    "bank_marketing.dtypes"
   ]
  },
  {
   "cell_type": "markdown",
   "metadata": {},
   "source": [
    "### Second intruction: \n",
    "Split the data into three DataFrames:\n",
    "\n",
    "* client\n",
    "* campaign\n",
    "* economics"
   ]
  },
  {
   "cell_type": "code",
   "execution_count": 12,
   "metadata": {},
   "outputs": [],
   "source": [
    "client_col = ['client_id', 'age', 'job', 'marital', 'education','credit_default', 'housing', 'loan']\n",
    "campaign_col = ['client_id', 'campaign', 'duration', 'pdays', 'previous', 'poutcome', 'y', 'month', 'day']\n",
    "economics_col = ['client_id', 'emp_var_rate', 'cons_price_idx', 'euribor3m', 'nr_employed']\n",
    "\n",
    "clients = bank_marketing[client_col]\n",
    "campaigns = bank_marketing[campaign_col]\n",
    "economics = bank_marketing[economics_col]"
   ]
  },
  {
   "cell_type": "markdown",
   "metadata": {},
   "source": [
    "### Third instruction:\n",
    "Rename the column \"client_id\" to \"id\" in client (leave as-is in the other subsets); \"duration\" to \"contact_duration\", \"previous\" to \"previous_campaign_contacts\", \"y\" to \"campaign_outcome\", \"poutcome\" to \"previous_outcome\", and \"campaign\" to \"number_contacts\" in campaign; and \"euribor3m\" to \"euribor_three_months\" and \"nr_employed\" to \"number_employed\" in economics."
   ]
  },
  {
   "cell_type": "code",
   "execution_count": 13,
   "metadata": {},
   "outputs": [],
   "source": [
    "# In the clients DataFrame\n",
    "clients.rename(columns={'client_id': 'id'}, inplace=True)\n",
    "\n",
    "# In campaigns DataFrame\n",
    "campaigns.rename(columns={ \n",
    "                        'duration' : 'contact_duration',\n",
    "                        'previous' : 'previous_campaign_contacts',\n",
    "                        'y':'campaign_outcome',\n",
    "                        'poutcome':'previous_outcome',\n",
    "                        'campaign':'number_contacts'\n",
    "                        }, inplace=True)\n",
    "\n",
    "# In economics DataFrame\n",
    "economics.rename(columns={\n",
    "                        'euribor3m':'euribor_three_months',\n",
    "                        'nr_employed':'number_employed'\n",
    "                        }, inplace=True)"
   ]
  },
  {
   "cell_type": "markdown",
   "metadata": {},
   "source": [
    "### Fourth instruction:\n",
    "Clean the \"education\" column, changing \".\" to \"_\" and \"unknown\" to NumPy's null values."
   ]
  },
  {
   "cell_type": "code",
   "execution_count": 14,
   "metadata": {},
   "outputs": [],
   "source": [
    "clients['education'] = clients['education'].str.replace('\\.','_')\n",
    "clients['education'] = clients['education'].replace('unknown',np.nan, inplace=True)"
   ]
  },
  {
   "cell_type": "code",
   "execution_count": 15,
   "metadata": {},
   "outputs": [
    {
     "name": "stdout",
     "output_type": "stream",
     "text": [
      "Education's column is clean.\n"
     ]
    }
   ],
   "source": [
    "# Check for . and 'unknown'\n",
    "to_check=['.', 'unknown']\n",
    "counter_dot = clients['education'].str.contains(to_check[0]).sum()\n",
    "counter_unknown = (clients['education'] == to_check[1]).sum()\n",
    "\n",
    "if counter_dot == 0 and counter_unknown == 0:\n",
    "    print(\"Education's column is clean.\")\n",
    "else:\n",
    "    print(\"Education's column has still {} dot(s). and {} unknown(s) values\".format(counter_dot, counter_unknown))"
   ]
  },
  {
   "cell_type": "markdown",
   "metadata": {},
   "source": [
    "### Fifth instruction:\n",
    "Remove periods from the \"job\" column."
   ]
  },
  {
   "cell_type": "code",
   "execution_count": 16,
   "metadata": {},
   "outputs": [
    {
     "name": "stdout",
     "output_type": "stream",
     "text": [
      "There are no dots in the job's column.\n"
     ]
    }
   ],
   "source": [
    "clients['job'] = clients['job'].str.replace('.', '')\n",
    "\n",
    "# To find a \".\" and stop ASAP \n",
    "if '.' not in clients['job'].values:\n",
    "    print(\"There are no dots in the job's column.\")\n",
    "else: \n",
    "    print(\"There are still dots in the job's column.\")"
   ]
  },
  {
   "cell_type": "markdown",
   "metadata": {},
   "source": [
    "### sixth instruction:\n",
    "Convert \"success\" and \"failure\" in the \"previous_outcome\" and \"campaign_outcome\" columns to binary (1 or 0), along with the changing \"nonexistent\" to NumPy's null values in \"previous_outcome\"."
   ]
  },
  {
   "cell_type": "code",
   "execution_count": 17,
   "metadata": {},
   "outputs": [
    {
     "name": "stdout",
     "output_type": "stream",
     "text": [
      "Columns were converted and changed successfully!\n"
     ]
    }
   ],
   "source": [
    "campaigns['previous_outcome'] = campaigns['previous_outcome'].map({'success':1, 'failure':0})\n",
    "campaigns['campaign_outcome'] = campaigns['campaign_outcome'].map({'success':1, 'failure':0})\n",
    "\n",
    "campaigns['previous_outcome'] = campaigns['previous_outcome'].replace('nonexistent', np.nan, inplace=True)\n",
    "\n",
    "if (\"success\" or \"failure\") not in campaigns['previous_outcome'].values and\\\n",
    "    (\"success\" or \"failure\") not in campaigns['campaign_outcome'].values and\\\n",
    "    (\"nonexistent\") not in campaigns['previous_outcome'].values:\n",
    "    print(\"Columns were converted and changed successfully!\")\n",
    "else:\n",
    "    print(\"Columns were not converted successfully!\")"
   ]
  },
  {
   "cell_type": "markdown",
   "metadata": {},
   "source": [
    "### Seventh instruction:\n",
    "Add a column called campaign_id in campaign, where all rows have a value of 1."
   ]
  },
  {
   "cell_type": "code",
   "execution_count": 18,
   "metadata": {},
   "outputs": [
    {
     "data": {
      "text/html": [
       "<div>\n",
       "<style scoped>\n",
       "    .dataframe tbody tr th:only-of-type {\n",
       "        vertical-align: middle;\n",
       "    }\n",
       "\n",
       "    .dataframe tbody tr th {\n",
       "        vertical-align: top;\n",
       "    }\n",
       "\n",
       "    .dataframe thead th {\n",
       "        text-align: right;\n",
       "    }\n",
       "</style>\n",
       "<table border=\"1\" class=\"dataframe\">\n",
       "  <thead>\n",
       "    <tr style=\"text-align: right;\">\n",
       "      <th></th>\n",
       "      <th>client_id</th>\n",
       "      <th>number_contacts</th>\n",
       "      <th>contact_duration</th>\n",
       "      <th>pdays</th>\n",
       "      <th>previous_campaign_contacts</th>\n",
       "      <th>previous_outcome</th>\n",
       "      <th>campaign_outcome</th>\n",
       "      <th>month</th>\n",
       "      <th>day</th>\n",
       "      <th>campaign_id</th>\n",
       "    </tr>\n",
       "  </thead>\n",
       "  <tbody>\n",
       "    <tr>\n",
       "      <th>0</th>\n",
       "      <td>0</td>\n",
       "      <td>1</td>\n",
       "      <td>261</td>\n",
       "      <td>999</td>\n",
       "      <td>0</td>\n",
       "      <td>None</td>\n",
       "      <td>NaN</td>\n",
       "      <td>may</td>\n",
       "      <td>13</td>\n",
       "      <td>1</td>\n",
       "    </tr>\n",
       "    <tr>\n",
       "      <th>1</th>\n",
       "      <td>1</td>\n",
       "      <td>1</td>\n",
       "      <td>149</td>\n",
       "      <td>999</td>\n",
       "      <td>0</td>\n",
       "      <td>None</td>\n",
       "      <td>NaN</td>\n",
       "      <td>may</td>\n",
       "      <td>19</td>\n",
       "      <td>1</td>\n",
       "    </tr>\n",
       "    <tr>\n",
       "      <th>2</th>\n",
       "      <td>2</td>\n",
       "      <td>1</td>\n",
       "      <td>226</td>\n",
       "      <td>999</td>\n",
       "      <td>0</td>\n",
       "      <td>None</td>\n",
       "      <td>NaN</td>\n",
       "      <td>may</td>\n",
       "      <td>23</td>\n",
       "      <td>1</td>\n",
       "    </tr>\n",
       "  </tbody>\n",
       "</table>\n",
       "</div>"
      ],
      "text/plain": [
       "   client_id  number_contacts  contact_duration  pdays  \\\n",
       "0          0                1               261    999   \n",
       "1          1                1               149    999   \n",
       "2          2                1               226    999   \n",
       "\n",
       "   previous_campaign_contacts previous_outcome  campaign_outcome month  day  \\\n",
       "0                           0             None               NaN   may   13   \n",
       "1                           0             None               NaN   may   19   \n",
       "2                           0             None               NaN   may   23   \n",
       "\n",
       "   campaign_id  \n",
       "0            1  \n",
       "1            1  \n",
       "2            1  "
      ]
     },
     "execution_count": 18,
     "metadata": {},
     "output_type": "execute_result"
    }
   ],
   "source": [
    "campaigns['campaign_id'] = 1\n",
    "\n",
    "campaigns.head(3)"
   ]
  },
  {
   "cell_type": "markdown",
   "metadata": {},
   "source": [
    "### Eighth instruction:\n",
    "Create a datetime column called last_contact_date, in the format of \"year-month-day\", where the year is 2022, and the month and day values are taken from the \"month\" and \"day\" columns."
   ]
  },
  {
   "cell_type": "code",
   "execution_count": 19,
   "metadata": {},
   "outputs": [
    {
     "name": "stdout",
     "output_type": "stream",
     "text": [
      "The column was created!\n"
     ]
    }
   ],
   "source": [
    "# We fix the year to 2022\n",
    "campaigns['year'] = 2022\n",
    "\n",
    "# to create the last_contact_date colum\n",
    "campaigns['last_contact_date'] = pd.to_datetime(\n",
    "                                campaigns['year'].astype(str) + '-' +\n",
    "                                campaigns['month'].astype(str) + '-' +\n",
    "                                campaigns['day'].astype(str),\n",
    "                                errors = 'coerce')\n",
    "# Check if column last_contact_date was created\n",
    "\n",
    "if 'last_contact_date' in campaigns.columns:\n",
    "    print('The column was created!')\n",
    "else:\n",
    "    print('The column was not created!')"
   ]
  },
  {
   "cell_type": "markdown",
   "metadata": {},
   "source": [
    "### Ninth instruction:\n",
    "Remove any redundant data that might have been used to create new columns, ensuring the columns in each subset of the data match the table displayed in the notebook."
   ]
  },
  {
   "cell_type": "code",
   "execution_count": 20,
   "metadata": {},
   "outputs": [
    {
     "name": "stdout",
     "output_type": "stream",
     "text": [
      "Clients\n",
      "   id  age        job  marital education credit_default housing loan\n",
      "0   0   56  housemaid  married      None             no      no   no\n",
      "1   1   57   services  married      None        unknown      no   no\n",
      "2   2   37   services  married      None             no     yes   no\n",
      "3   3   40      admin  married      None             no      no   no\n",
      "4   4   56   services  married      None             no      no  yes\n",
      "\n",
      "Campaigns\n",
      "   client_id  number_contacts  contact_duration  pdays  \\\n",
      "0          0                1               261    999   \n",
      "1          1                1               149    999   \n",
      "2          2                1               226    999   \n",
      "3          3                1               151    999   \n",
      "4          4                1               307    999   \n",
      "\n",
      "   previous_campaign_contacts previous_outcome  campaign_outcome  campaign_id  \\\n",
      "0                           0             None               NaN            1   \n",
      "1                           0             None               NaN            1   \n",
      "2                           0             None               NaN            1   \n",
      "3                           0             None               NaN            1   \n",
      "4                           0             None               NaN            1   \n",
      "\n",
      "  last_contact_date  \n",
      "0        2022-05-13  \n",
      "1        2022-05-19  \n",
      "2        2022-05-23  \n",
      "3        2022-05-27  \n",
      "4        2022-05-03  \n",
      "\n",
      "Economics\n",
      "   client_id  emp_var_rate  cons_price_idx  euribor_three_months  \\\n",
      "0          0           1.1          93.994                 4.857   \n",
      "1          1           1.1          93.994                 4.857   \n",
      "2          2           1.1          93.994                 4.857   \n",
      "3          3           1.1          93.994                 4.857   \n",
      "4          4           1.1          93.994                 4.857   \n",
      "\n",
      "   number_employed  \n",
      "0           5191.0  \n",
      "1           5191.0  \n",
      "2           5191.0  \n",
      "3           5191.0  \n",
      "4           5191.0  \n",
      "\n"
     ]
    }
   ],
   "source": [
    "campaigns = campaigns.drop(['year', 'month', 'day'], axis=1)\n",
    "\n",
    "print(\"Clients\\n{}\\n\\nCampaigns\\n{}\\n\\nEconomics\\n{}\\n\".format(clients.head(), campaigns.head(), economics.head()))\n"
   ]
  },
  {
   "cell_type": "markdown",
   "metadata": {},
   "source": [
    "### Tenth instruction:\n",
    "Save the three DataFrames to csv files without an index as client.csv, campaign.csv, and economics.csv respectively."
   ]
  },
  {
   "cell_type": "code",
   "execution_count": 21,
   "metadata": {},
   "outputs": [],
   "source": [
    "clients.to_csv('client.csv', index=False)\n",
    "clients.to_csv('campaign.csv', index=False)\n",
    "clients.to_csv('economics.csv', index=False)\n"
   ]
  },
  {
   "cell_type": "markdown",
   "metadata": {},
   "source": [
    "### Eleventh instruction:\n",
    "Create a Python variable called client_table, containing SQL code as a multi-line string to create a table called client using values from client.csv."
   ]
  },
  {
   "cell_type": "code",
   "execution_count": 22,
   "metadata": {},
   "outputs": [],
   "source": [
    "client_table = '''\n",
    "                CREATE TABLE client (\n",
    "                id SERIAL PRIMARY KEY,\n",
    "                age INT,\n",
    "                job TEXT,\n",
    "                marital TEXT,\n",
    "                education TEXT,\n",
    "                credit_default BOOLEAN,\n",
    "                housing BOOLEAN,\n",
    "                loan BOOLEAN\n",
    "                );\n",
    "-- To SQL table from CSV file\n",
    "\\copy client FROM 'client.csv' DELIMITER ',' CSV HEADER;\n",
    "                '''"
   ]
  },
  {
   "cell_type": "markdown",
   "metadata": {},
   "source": [
    "### Twelfth instruction:\n",
    "Create a Python variable called campaign_table, containing SQL code as a multi-line string to create a table called campaign using values from campaign.csv."
   ]
  },
  {
   "cell_type": "code",
   "execution_count": 23,
   "metadata": {},
   "outputs": [],
   "source": [
    "#print(campaigns.head())\n",
    "\n",
    "campaign_table = '''\n",
    "                CREATE TABLE campaign (\n",
    "                campaign_id SERIAL PRIMARY KEY,\n",
    "                client_id SERIAL REFERENCES client(id),\n",
    "                number_contacts INT,\n",
    "                contact_duration INT,\n",
    "                pdays INT,\n",
    "                previous_campaign_contacts INT,\n",
    "                previous_outcome BOOLEAN,\n",
    "                campaign_outcome BOOLEAN,\n",
    "                last_contact_date DATE\n",
    "                );\n",
    "-- To SQL table from CSV file\n",
    "\\copy campaign FROM 'campaign.csv' DELIMITER ',' CSV HEADER;\n",
    "'''"
   ]
  },
  {
   "cell_type": "markdown",
   "metadata": {},
   "source": [
    "### Thirteenth instruction:\n",
    "Create a Python variable called economics_table, containing SQL code as a multi-line string to create a table called economics using values from economics.csv."
   ]
  },
  {
   "cell_type": "code",
   "execution_count": null,
   "metadata": {},
   "outputs": [],
   "source": [
    "#print(economics.head())\n",
    "\n",
    "economics_table = '''\n",
    "                CREATE TABLE economics (\n",
    "                client_id SERIAL REFERENCES client (id),\n",
    "                emp_var_rate FLOAT,\n",
    "                cons_price_idx FLOAT,\n",
    "                euribor_three_months FLOAT,\n",
    "                number_employed FLOAT);\n",
    "-- To SQL table from CSV file\n",
    "\\copy economics FROM 'economics.csv' DELIMITER ',' CSV HEADER;\n",
    "'''"
   ]
  }
 ],
 "metadata": {
  "kernelspec": {
   "display_name": "Python 3",
   "language": "python",
   "name": "python3"
  },
  "language_info": {
   "codemirror_mode": {
    "name": "ipython",
    "version": 3
   },
   "file_extension": ".py",
   "mimetype": "text/x-python",
   "name": "python",
   "nbconvert_exporter": "python",
   "pygments_lexer": "ipython3",
   "version": "3.11.1"
  }
 },
 "nbformat": 4,
 "nbformat_minor": 2
}
